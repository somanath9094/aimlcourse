{
  "nbformat": 4,
  "nbformat_minor": 0,
  "metadata": {
    "colab": {
      "provenance": [],
      "authorship_tag": "ABX9TyMYjCvWPi/CvOO70Ego8eHq",
      "include_colab_link": true
    },
    "kernelspec": {
      "name": "python3",
      "display_name": "Python 3"
    },
    "language_info": {
      "name": "python"
    }
  },
  "cells": [
    {
      "cell_type": "markdown",
      "metadata": {
        "id": "view-in-github",
        "colab_type": "text"
      },
      "source": [
        "<a href=\"https://colab.research.google.com/github/somanath9094/aimlcourse/blob/main/Day1.ipynb\" target=\"_parent\"><img src=\"https://colab.research.google.com/assets/colab-badge.svg\" alt=\"Open In Colab\"/></a>"
      ]
    },
    {
      "cell_type": "code",
      "execution_count": 1,
      "metadata": {
        "id": "eZzrdkvHOwP4",
        "outputId": "eb465bac-89e4-42e7-8720-fd79f9fa445b",
        "colab": {
          "base_uri": "https://localhost:8080/"
        }
      },
      "outputs": [
        {
          "output_type": "stream",
          "name": "stdout",
          "text": [
            "Somanath Reddy\n",
            "Somanath Reddy Palle\n"
          ]
        }
      ],
      "source": [
        "name = 'Somanath Reddy'\n",
        "name2 = 'Somanath Reddy Palle'\n",
        "print(name)\n",
        "print(name2)"
      ]
    },
    {
      "cell_type": "code",
      "source": [],
      "metadata": {
        "id": "p_kp33LlRcXX"
      },
      "execution_count": null,
      "outputs": []
    }
  ]
}