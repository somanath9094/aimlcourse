{
  "nbformat": 4,
  "nbformat_minor": 0,
  "metadata": {
    "colab": {
      "provenance": [],
      "authorship_tag": "ABX9TyMbPLi0089sx7CbcghmYKum",
      "include_colab_link": true
    },
    "kernelspec": {
      "name": "python3",
      "display_name": "Python 3"
    },
    "language_info": {
      "name": "python"
    }
  },
  "cells": [
    {
      "cell_type": "markdown",
      "metadata": {
        "id": "view-in-github",
        "colab_type": "text"
      },
      "source": [
        "<a href=\"https://colab.research.google.com/github/somanath9094/aimlcourse/blob/main/Day1.ipynb\" target=\"_parent\"><img src=\"https://colab.research.google.com/assets/colab-badge.svg\" alt=\"Open In Colab\"/></a>"
      ]
    },
    {
      "cell_type": "code",
      "execution_count": null,
      "metadata": {
        "id": "eZzrdkvHOwP4",
        "colab": {
          "base_uri": "https://localhost:8080/"
        },
        "outputId": "eb465bac-89e4-42e7-8720-fd79f9fa445b"
      },
      "outputs": [
        {
          "output_type": "stream",
          "name": "stdout",
          "text": [
            "Somanath Reddy\n",
            "Somanath Reddy Palle\n"
          ]
        }
      ],
      "source": [
        "name = 'Somanath Reddy'\n",
        "name2 = 'Somanath Reddy Palle'\n",
        "print(name)\n",
        "print(name2)"
      ]
    },
    {
      "cell_type": "code",
      "source": [
        "num1 = float(input(\"Enter the first number: \"))\n",
        "num2 = float(input(\"Enter the second number: \"))\n",
        "\n",
        "sum = num1 + num2\n",
        "diff = num1 -  num2\n",
        "product = num1 * num2\n",
        "quotient = num1 / num2\n",
        "\n",
        "print(\"Sum:\", sum)\n",
        "print(\"Difference:\", diff)\n",
        "print(\"Product:\", product)\n",
        "print(\"Quotient:\", quotient)\n",
        "print(num1 == num2)\n"
      ],
      "metadata": {
        "id": "pt0d-WnKTenO",
        "outputId": "cd463a6a-f54e-471e-cc31-e464c0c9d86c",
        "colab": {
          "base_uri": "https://localhost:8080/"
        }
      },
      "execution_count": null,
      "outputs": [
        {
          "output_type": "stream",
          "name": "stdout",
          "text": [
            "Enter the first number: 21\n",
            "Enter the second number: 21\n",
            "Sum: 42.0\n",
            "Difference: 0.0\n",
            "Product: 441.0\n",
            "Quotient: 1.0\n",
            "True\n"
          ]
        }
      ]
    },
    {
      "cell_type": "markdown",
      "source": [
        "DataTypes:\n",
        "list\n",
        "tuples\n",
        "Dictionaries\n",
        "sets\n"
      ],
      "metadata": {
        "id": "WoifHWQGWCuh"
      }
    },
    {
      "cell_type": "code",
      "source": [
        "#list\n",
        "# it is a collection of mutuable and ordered items.\n",
        "# mutuable items can be modified.\n",
        "\n",
        "lst = []\n",
        "print(lst[1:])\n",
        "print(lst[1:3])\n",
        "print(lst[1:7 : 2])"
      ],
      "metadata": {
        "id": "FS87pb6RWBJx"
      },
      "execution_count": null,
      "outputs": []
    },
    {
      "cell_type": "code",
      "source": [
        "fruits = [\"apple\", \"banana\", \"cherry\",\"date\", \"elderberry\", \"fig\", \"grape\"]\n",
        "print(fruits[1 : 5 : 3])\n",
        "print(fruits[1 :  : 2])\n",
        "print(fruits[2 : 5 : 2])\n",
        "print(fruits[-2 : -6 : -1])"
      ],
      "metadata": {
        "id": "yeID6u9ZZLJA",
        "outputId": "8a27f555-6496-45fa-c2e7-86495e6bb375",
        "colab": {
          "base_uri": "https://localhost:8080/"
        }
      },
      "execution_count": null,
      "outputs": [
        {
          "output_type": "stream",
          "name": "stdout",
          "text": [
            "['banana', 'elderberry']\n",
            "['banana', 'date', 'fig']\n",
            "['cherry', 'elderberry']\n",
            "['fig', 'elderberry', 'date', 'cherry']\n"
          ]
        }
      ]
    },
    {
      "cell_type": "code",
      "source": [
        "fruits = [\"apple\", \"banana\", \"cherry\",\"date\", \"elderberry\", \"fig\", \"grape\"]"
      ],
      "metadata": {
        "id": "XXNEW522bdU1"
      },
      "execution_count": null,
      "outputs": []
    },
    {
      "cell_type": "code",
      "source": [
        "#list comprehension\n",
        "# create a lsit based on a logic or a rule or any linear syntax\n",
        "\n",
        "\n",
        "\n",
        "lst1 = [x* x for x in range(6)]\n",
        "print(lst1)"
      ],
      "metadata": {
        "id": "bmglkb4ygT8Y",
        "outputId": "b03640fb-aad6-47a7-9f0a-8ba5e928d75e",
        "colab": {
          "base_uri": "https://localhost:8080/"
        }
      },
      "execution_count": null,
      "outputs": [
        {
          "output_type": "stream",
          "name": "stdout",
          "text": [
            "[0, 1, 4, 9, 16, 25]\n"
          ]
        }
      ]
    },
    {
      "cell_type": "code",
      "source": [
        "sq_rt = [x ** 0.5 for x in range(51)]\n",
        "print(sq_rt)"
      ],
      "metadata": {
        "id": "yo-bGHWGhbQY",
        "outputId": "9156e131-1508-4eec-d0f3-230c09ab3b7e",
        "colab": {
          "base_uri": "https://localhost:8080/"
        }
      },
      "execution_count": null,
      "outputs": [
        {
          "output_type": "stream",
          "name": "stdout",
          "text": [
            "[0.0, 1.0, 1.4142135623730951, 1.7320508075688772, 2.0, 2.23606797749979, 2.449489742783178, 2.6457513110645907, 2.8284271247461903, 3.0, 3.1622776601683795, 3.3166247903554, 3.4641016151377544, 3.605551275463989, 3.7416573867739413, 3.872983346207417, 4.0, 4.123105625617661, 4.242640687119285, 4.358898943540674, 4.47213595499958, 4.58257569495584, 4.69041575982343, 4.795831523312719, 4.898979485566356, 5.0, 5.0990195135927845, 5.196152422706632, 5.291502622129181, 5.385164807134504, 5.477225575051661, 5.5677643628300215, 5.656854249492381, 5.744562646538029, 5.830951894845301, 5.916079783099616, 6.0, 6.082762530298219, 6.164414002968976, 6.244997998398398, 6.324555320336759, 6.4031242374328485, 6.48074069840786, 6.557438524302, 6.6332495807108, 6.708203932499369, 6.782329983125268, 6.855654600401044, 6.928203230275509, 7.0, 7.0710678118654755]\n"
          ]
        }
      ]
    },
    {
      "cell_type": "code",
      "source": [
        "import math"
      ],
      "metadata": {
        "id": "DN5oJZy5hbM6"
      },
      "execution_count": null,
      "outputs": []
    },
    {
      "cell_type": "code",
      "source": [
        "sqrt = [math.sqrt(x) for x in range(51)]\n",
        "print(sqrt)"
      ],
      "metadata": {
        "id": "ggvHqQ1PhbJc",
        "outputId": "dbeaceec-c23b-4878-a4d6-d8fae9a33927",
        "colab": {
          "base_uri": "https://localhost:8080/"
        }
      },
      "execution_count": null,
      "outputs": [
        {
          "output_type": "stream",
          "name": "stdout",
          "text": [
            "[0.0, 1.0, 1.4142135623730951, 1.7320508075688772, 2.0, 2.23606797749979, 2.449489742783178, 2.6457513110645907, 2.8284271247461903, 3.0, 3.1622776601683795, 3.3166247903554, 3.4641016151377544, 3.605551275463989, 3.7416573867739413, 3.872983346207417, 4.0, 4.123105625617661, 4.242640687119285, 4.358898943540674, 4.47213595499958, 4.58257569495584, 4.69041575982343, 4.795831523312719, 4.898979485566356, 5.0, 5.0990195135927845, 5.196152422706632, 5.291502622129181, 5.385164807134504, 5.477225575051661, 5.5677643628300215, 5.656854249492381, 5.744562646538029, 5.830951894845301, 5.916079783099616, 6.0, 6.082762530298219, 6.164414002968976, 6.244997998398398, 6.324555320336759, 6.4031242374328485, 6.48074069840786, 6.557438524302, 6.6332495807108, 6.708203932499369, 6.782329983125268, 6.855654600401044, 6.928203230275509, 7.0, 7.0710678118654755]\n"
          ]
        }
      ]
    },
    {
      "cell_type": "code",
      "source": [],
      "metadata": {
        "id": "KMLNG2wAhbGL"
      },
      "execution_count": null,
      "outputs": []
    },
    {
      "cell_type": "code",
      "source": [
        "#Nested Lists"
      ],
      "metadata": {
        "id": "SFBi8aN1hbCt"
      },
      "execution_count": null,
      "outputs": []
    },
    {
      "cell_type": "code",
      "source": [
        "matrix  = [[1,2,3],[4,5,6],[7,8,9]]\n",
        "\n",
        "print(matrix)"
      ],
      "metadata": {
        "id": "9O19vnC8ha_e",
        "outputId": "f9e8c4c2-086b-4b70-8f41-c16d5dbd815e",
        "colab": {
          "base_uri": "https://localhost:8080/"
        }
      },
      "execution_count": null,
      "outputs": [
        {
          "output_type": "stream",
          "name": "stdout",
          "text": [
            "[[1, 2, 3], [4, 5, 6], [7, 8, 9]]\n"
          ]
        }
      ]
    },
    {
      "cell_type": "code",
      "source": [
        "matrix[2][2]"
      ],
      "metadata": {
        "id": "qJVKko-_ha8C",
        "outputId": "e29d0241-a892-4043-f241-f55a2e393aa3",
        "colab": {
          "base_uri": "https://localhost:8080/"
        }
      },
      "execution_count": null,
      "outputs": [
        {
          "output_type": "execute_result",
          "data": {
            "text/plain": [
              "9"
            ]
          },
          "metadata": {},
          "execution_count": 25
        }
      ]
    },
    {
      "cell_type": "code",
      "source": [
        "multile = [[i * j for j in range(1,6)] for i in range(1,3)]\n",
        "print(multile)"
      ],
      "metadata": {
        "id": "eMElt6B6ha4o",
        "outputId": "12c5bd06-ddcb-4ed2-ebb0-507253ede354",
        "colab": {
          "base_uri": "https://localhost:8080/"
        }
      },
      "execution_count": null,
      "outputs": [
        {
          "output_type": "stream",
          "name": "stdout",
          "text": [
            "[[1, 2, 3, 4, 5], [2, 4, 6, 8, 10]]\n"
          ]
        }
      ]
    },
    {
      "cell_type": "code",
      "source": [
        "marks = [98, 95, 100, 100, 50, 56, 80]\n",
        "\n",
        "# Corrected variable name\n",
        "total_sum = sum(marks)  # Use built-in sum() function\n",
        "\n",
        "print(\"Sum:\", total_sum)\n",
        "print(\"Max:\", max(marks))\n",
        "print(\"Min:\", min(marks))\n",
        "print(\"Average:\", total_sum / len(marks))  # Corrected average calculation\n",
        "print(\"Count:\", len(marks))"
      ],
      "metadata": {
        "id": "GHP26_zFha1U",
        "outputId": "b389e64a-a714-479d-a9a7-4423d89c114b",
        "colab": {
          "base_uri": "https://localhost:8080/"
        }
      },
      "execution_count": null,
      "outputs": [
        {
          "output_type": "stream",
          "name": "stdout",
          "text": [
            "Sum: 579\n",
            "Max: 100\n",
            "Min: 50\n",
            "Average: 82.71428571428571\n",
            "Count: 7\n"
          ]
        }
      ]
    },
    {
      "cell_type": "code",
      "source": [
        "# upacking with *\n",
        "numbers = (1,2,3,4,5,6,7,8,9)\n",
        "\n",
        "start, middle , *end = numbers\n",
        "\n",
        "print(start, end)"
      ],
      "metadata": {
        "id": "gFRyPKxxhax2",
        "outputId": "4df08694-a5cd-457f-f10c-5f1e80c75ba0",
        "colab": {
          "base_uri": "https://localhost:8080/"
        }
      },
      "execution_count": null,
      "outputs": [
        {
          "output_type": "stream",
          "name": "stdout",
          "text": [
            "1 [3, 4, 5, 6, 7, 8, 9]\n"
          ]
        }
      ]
    },
    {
      "cell_type": "code",
      "source": [
        "lst = [[1,2,3,4,5],[6,7,8,9,0],['hi','hello','tata']]\n",
        "print(lst[1][1],lst[2][0])"
      ],
      "metadata": {
        "id": "9hYFIKKghauj",
        "outputId": "7675b41d-b990-494e-ad93-cafb498a5e96",
        "colab": {
          "base_uri": "https://localhost:8080/"
        }
      },
      "execution_count": null,
      "outputs": [
        {
          "output_type": "stream",
          "name": "stdout",
          "text": [
            "7 hi\n"
          ]
        }
      ]
    },
    {
      "cell_type": "code",
      "source": [
        "lst2 = [[1,2,3,4,5],[6,7,8,9,0],('hi','hello','tata')]\n",
        "print(lst2[1][1],lst2[2][0])"
      ],
      "metadata": {
        "id": "W5IOWZ5RharZ",
        "outputId": "824955d3-0cdd-4013-c89d-9a07bfccf1eb",
        "colab": {
          "base_uri": "https://localhost:8080/"
        }
      },
      "execution_count": null,
      "outputs": [
        {
          "output_type": "stream",
          "name": "stdout",
          "text": [
            "7 hi\n"
          ]
        }
      ]
    },
    {
      "cell_type": "code",
      "source": [],
      "metadata": {
        "id": "VR9uEhsDhaoA"
      },
      "execution_count": null,
      "outputs": []
    },
    {
      "cell_type": "code",
      "source": [
        "numbers = [1,2,3,4,5,6,7,8,9]\n",
        "numbers_grater_than_3 = list(filter( lambda x:x>3,numbers))\n",
        "print(numbers_grater_than_3)"
      ],
      "metadata": {
        "id": "uOJ4tZB-hakx",
        "colab": {
          "base_uri": "https://localhost:8080/"
        },
        "outputId": "720cfc22-00a5-4ad0-fd82-18ee00e23ffa"
      },
      "execution_count": 3,
      "outputs": [
        {
          "output_type": "stream",
          "name": "stdout",
          "text": [
            "[4, 5, 6, 7, 8, 9]\n"
          ]
        }
      ]
    },
    {
      "cell_type": "code",
      "source": [
        "with open('/content/sample_data/README.md','r') as file:\n",
        "  content = file.read()\n",
        "  print(content)"
      ],
      "metadata": {
        "id": "TmJzLAW6haeS",
        "colab": {
          "base_uri": "https://localhost:8080/"
        },
        "outputId": "3f3e6d7a-c783-4be1-feb0-ff4a28c4d80f"
      },
      "execution_count": 6,
      "outputs": [
        {
          "output_type": "stream",
          "name": "stdout",
          "text": [
            "This directory includes a few sample datasets to get you started.\n",
            "\n",
            "*   `california_housing_data*.csv` is California housing data from the 1990 US\n",
            "    Census; more information is available at:\n",
            "    https://docs.google.com/document/d/e/2PACX-1vRhYtsvc5eOR2FWNCwaBiKL6suIOrxJig8LcSBbmCbyYsayia_DvPOOBlXZ4CAlQ5nlDD8kTaIDRwrN/pub\n",
            "\n",
            "*   `mnist_*.csv` is a small sample of the\n",
            "    [MNIST database](https://en.wikipedia.org/wiki/MNIST_database), which is\n",
            "    described at: http://yann.lecun.com/exdb/mnist/\n",
            "\n",
            "*   `anscombe.json` contains a copy of\n",
            "    [Anscombe's quartet](https://en.wikipedia.org/wiki/Anscombe%27s_quartet); it\n",
            "    was originally described in\n",
            "\n",
            "    Anscombe, F. J. (1973). 'Graphs in Statistical Analysis'. American\n",
            "    Statistician. 27 (1): 17-21. JSTOR 2682899.\n",
            "\n",
            "    and our copy was prepared by the\n",
            "    [vega_datasets library](https://github.com/altair-viz/vega_datasets/blob/4f67bdaad10f45e3549984e17e1b3088c731503d/vega_datasets/_data/anscombe.json).\n",
            "\n"
          ]
        }
      ]
    },
    {
      "cell_type": "code",
      "source": [
        "import os\n",
        "cwd = os.getcwd()\n",
        "print(cwd)"
      ],
      "metadata": {
        "id": "AW5y2HeKhabD",
        "colab": {
          "base_uri": "https://localhost:8080/"
        },
        "outputId": "4d57d922-facc-4299-ee2a-9028281805f5"
      },
      "execution_count": 7,
      "outputs": [
        {
          "output_type": "stream",
          "name": "stdout",
          "text": [
            "/content\n"
          ]
        }
      ]
    },
    {
      "cell_type": "code",
      "source": [
        "new_dir = 'my_dir'\n",
        "os.mkdir(new_dir)\n",
        "print(f\"newly created directory is {new_dir}\")"
      ],
      "metadata": {
        "id": "-d2Vpvs_haXn",
        "colab": {
          "base_uri": "https://localhost:8080/"
        },
        "outputId": "acaf677f-fc8b-40a5-be4e-aa928e2e15b8"
      },
      "execution_count": 8,
      "outputs": [
        {
          "output_type": "stream",
          "name": "stdout",
          "text": [
            "newly created directory is my_dir\n"
          ]
        }
      ]
    },
    {
      "cell_type": "code",
      "source": [
        "items = os.listdir('.')\n",
        "print(items)"
      ],
      "metadata": {
        "id": "QCFljumThaRv",
        "colab": {
          "base_uri": "https://localhost:8080/"
        },
        "outputId": "657c5cf0-6e62-4f27-d705-43005106b97b"
      },
      "execution_count": 9,
      "outputs": [
        {
          "output_type": "stream",
          "name": "stdout",
          "text": [
            "['.config', 'my_dir', 'sample_data']\n"
          ]
        }
      ]
    },
    {
      "cell_type": "code",
      "source": [
        "dir_name = 'my_dir'\n",
        "file_name = 'readme.md'\n",
        "full_path = os.path.join(os.getcwd(),dir_name,file_name)\n",
        "print(full_path)"
      ],
      "metadata": {
        "id": "wHYSDTh3haOV",
        "colab": {
          "base_uri": "https://localhost:8080/"
        },
        "outputId": "3fd4bcf6-b0a0-4265-d03c-6983d83ecc86"
      },
      "execution_count": 11,
      "outputs": [
        {
          "output_type": "stream",
          "name": "stdout",
          "text": [
            "('/content', ('my_dir', 'readme.md'))\n"
          ]
        }
      ]
    },
    {
      "cell_type": "code",
      "source": [],
      "metadata": {
        "id": "WxtjtvR7haLE"
      },
      "execution_count": null,
      "outputs": []
    },
    {
      "cell_type": "code",
      "source": [],
      "metadata": {
        "id": "RaiuhtiUhaH1"
      },
      "execution_count": null,
      "outputs": []
    },
    {
      "cell_type": "code",
      "source": [],
      "metadata": {
        "id": "uCFN3gVkhaEe"
      },
      "execution_count": null,
      "outputs": []
    },
    {
      "cell_type": "code",
      "source": [],
      "metadata": {
        "id": "j6WwMg_ihaBO"
      },
      "execution_count": null,
      "outputs": []
    }
  ]
}